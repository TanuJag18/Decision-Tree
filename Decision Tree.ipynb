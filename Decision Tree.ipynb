{
 "cells": [
  {
   "cell_type": "code",
   "execution_count": null,
   "id": "43eb499f-1723-47ab-9982-ee0d48a63abb",
   "metadata": {},
   "outputs": [],
   "source": [
    "#Q1: What is a Decision Tree, and how does it work\n",
    "#Ans: A Decision Tree is a flowchart-like supervised learning algorithm that recursively splits data based on feature values to make predictions. It works by selecting the best split at each node to maximize information gain or minimize impurity."
   ]
  },
  {
   "cell_type": "code",
   "execution_count": null,
   "id": "87fabf5b-0034-4526-a65d-e13840b1d06f",
   "metadata": {},
   "outputs": [],
   "source": [
    "#Q2: What are impurity measures in Decision Trees\t\n",
    "#Ans: Impurity measures like Gini impurity and entropy quantify the homogeneity of labels within a node, guiding the splitting process to create purer child nodes."
   ]
  },
  {
   "cell_type": "code",
   "execution_count": null,
   "id": "c43b75f6-39fa-4587-9881-ec8c97df02f0",
   "metadata": {},
   "outputs": [],
   "source": [
    "#Q3:  What is the mathematical formula for Gini Impurity\t\n",
    "#Ans: The Gini impurity for a node with n classes and proportion pi of instances belonging to class i is 1−∑ i=1 n*pi^2."
   ]
  },
  {
   "cell_type": "code",
   "execution_count": null,
   "id": "c5ea494e-e266-45d6-b61e-a17a0b80434b",
   "metadata": {},
   "outputs": [],
   "source": [
    "#Q4:  What is the mathematical formula for Entropy\n",
    "#Ans: The entropy for a node with n classes and proportion pi of instances belonging to class i is \n",
    "−∑i=1n*pi*log 2(pi)."
   ]
  },
  {
   "cell_type": "code",
   "execution_count": null,
   "id": "dcb42e9c-93c2-4ac5-ba19-3a9ef1925124",
   "metadata": {},
   "outputs": [],
   "source": [
    "#Q5: What is Information Gain, and how is it used in Decision Trees\t\n",
    "#Ans: Information Gain is the reduction in entropy (or Gini impurity) after a split, used to determine the best feature and split point at each node."
   ]
  },
  {
   "cell_type": "code",
   "execution_count": null,
   "id": "598caa58-611a-459c-b03d-8c382e7e45e6",
   "metadata": {},
   "outputs": [],
   "source": [
    "#Q6: What is the difference between Gini Impurity and Entropy?\n",
    "#Ans: Both measure impurity, but entropy uses logarithms and tends to favor slightly more balanced splits, while Gini is computationally faster."
   ]
  },
  {
   "cell_type": "code",
   "execution_count": null,
   "id": "7239d1d1-6114-4ee5-8982-8685507f3758",
   "metadata": {},
   "outputs": [],
   "source": [
    "#Q7: What is the mathematical explanation behind Decision Trees?\n",
    "#Ans: Decision Trees recursively partition the feature space into rectangular regions, aiming to have data points within each region belong to the same class (for classification) or have similar target values (for regression), based on optimizing impurity reduction at each split."
   ]
  },
  {
   "cell_type": "code",
   "execution_count": null,
   "id": "470eb345-d3c1-4bb7-ae87-b49076e89a06",
   "metadata": {},
   "outputs": [],
   "source": [
    "#Q8: What is Pre-Pruning in Decision Trees?\n",
    "#Ans: Pre-pruning stops the tree growth early by setting constraints like maximum depth or minimum samples per leaf to avoid overfitting."
   ]
  },
  {
   "cell_type": "code",
   "execution_count": null,
   "id": "e6315acb-4308-42cc-996b-94a8401469b7",
   "metadata": {},
   "outputs": [],
   "source": [
    "#Q9: What is Post-Pruning in Decision Trees?\n",
    "#Ans: Post-pruning grows a full tree and then removes subtrees that do not improve generalization performance on a validation set."
   ]
  },
  {
   "cell_type": "code",
   "execution_count": null,
   "id": "56853730-7bcf-4f54-b328-5bace99aa5d3",
   "metadata": {},
   "outputs": [],
   "source": [
    "#Q10: What is the difference between Pre-Pruning and Post-Pruning?\n",
    "#Ans: Pre-pruning stops early to avoid overfitting, while post-pruning removes branches from a fully grown tree based on performance."
   ]
  },
  {
   "cell_type": "code",
   "execution_count": null,
   "id": "1e4c10d0-9e52-4bd6-88c6-d090ac631675",
   "metadata": {},
   "outputs": [],
   "source": [
    "#Q11: What is a Decision Tree Regressor?\n",
    "#Ans: A Decision Tree Regressor is a decision tree used for predicting continuous target variables by splitting the data based on features and predicting the average value in each leaf node."
   ]
  },
  {
   "cell_type": "code",
   "execution_count": null,
   "id": "05defc8e-c4ba-4cce-8cd9-a58c0b2f228d",
   "metadata": {},
   "outputs": [],
   "source": [
    "#Q12: What are the advantages and disadvantages of Decision Trees?\n",
    "#Ans: Advantages include interpretability, handling of different data types, and non-linearity; disadvantages include susceptibility to overfitting and instability."
   ]
  },
  {
   "cell_type": "code",
   "execution_count": null,
   "id": "5dbf3b42-f0a1-46dc-a0d2-ea1f3bfc3d6f",
   "metadata": {},
   "outputs": [],
   "source": [
    "#Q13: How does a Decision Tree handle missing values?\n",
    "#Ans: Decision Trees can handle missing values by either ignoring instances with missing values during split finding or by using surrogate splits or imputation techniques."
   ]
  },
  {
   "cell_type": "code",
   "execution_count": null,
   "id": "9861ed17-39b7-4ae2-b24a-5a3696a6677a",
   "metadata": {},
   "outputs": [],
   "source": [
    "#Q14: How does a Decision Tree handle categorical features?\n",
    "#Ans: Decision Trees can handle categorical features by creating multi-way splits based on all categories or by binary splits on subsets of categories."
   ]
  },
  {
   "cell_type": "code",
   "execution_count": null,
   "id": "3bd98371-10a6-4abb-9ff5-b9af4ef3073a",
   "metadata": {},
   "outputs": [],
   "source": [
    "#Q15: \n"
   ]
  },
  {
   "cell_type": "code",
   "execution_count": 1,
   "id": "dbddd18c-5416-4045-b42f-27f1c4719835",
   "metadata": {},
   "outputs": [],
   "source": [
    "import pandas as pd\n",
    "from sklearn.datasets import load_iris\n",
    "from sklearn.model_selection import train_test_split\n",
    "from sklearn.tree import DecisionTreeClassifier\n",
    "from sklearn.metrics import accuracy_score"
   ]
  },
  {
   "cell_type": "code",
   "execution_count": 2,
   "id": "bb1b441d-8ad0-42af-89f9-ae9640c2b206",
   "metadata": {},
   "outputs": [
    {
     "name": "stdout",
     "output_type": "stream",
     "text": [
      "16. Gini Impurity Accuracy: 1.0000\n",
      "16. Gini Impurity Feature Importances: [0.01667014 0.         0.90614339 0.07718647]\n"
     ]
    }
   ],
   "source": [
    "#Q16: Write a Python program to train a Decision Tree Classifier on the Iris dataset and print the model accuracy\n",
    "import pandas as pd\n",
    "from sklearn.datasets import load_iris\n",
    "from sklearn.model_selection import train_test_split\n",
    "from sklearn.tree import DecisionTreeClassifier\n",
    "from sklearn.metrics import accuracy_score\n",
    "# 16. Decision Tree Classifier on Iris with Gini and print accuracy\n",
    "iris = load_iris()\n",
    "X, y = iris.data, iris.target\n",
    "X_train, X_test, y_train, y_test = train_test_split(X, y, test_size=0.2, random_state=42)\n",
    "\n",
    "gini_clf = DecisionTreeClassifier(criterion='gini')\n",
    "gini_clf.fit(X_train, y_train)\n",
    "gini_pred = gini_clf.predict(X_test)\n",
    "gini_accuracy = accuracy_score(y_test, gini_pred)\n",
    "print(f\"16. Gini Impurity Accuracy: {gini_accuracy:.4f}\")\n",
    "print(f\"16. Gini Impurity Feature Importances: {gini_clf.feature_importances_}\")"
   ]
  },
  {
   "cell_type": "code",
   "execution_count": 3,
   "id": "8d70df7f-e523-4f12-b416-45d7c2b92b52",
   "metadata": {},
   "outputs": [
    {
     "name": "stdout",
     "output_type": "stream",
     "text": [
      "\n",
      "17. Entropy Accuracy: 1.0000\n"
     ]
    }
   ],
   "source": [
    "#Q17: Write a Python program to train a Decision Tree Classifier using Gini Impurity as the criterion and print the feature importances\n",
    "entropy_clf = DecisionTreeClassifier(criterion='entropy')\n",
    "entropy_clf.fit(X_train, y_train)\n",
    "entropy_pred = entropy_clf.predict(X_test)\n",
    "entropy_accuracy = accuracy_score(y_test, entropy_pred)\n",
    "print(f\"\\n17. Entropy Accuracy: {entropy_accuracy:.4f}\")\n"
   ]
  },
  {
   "cell_type": "code",
   "execution_count": 4,
   "id": "08b8b8b0-18ab-4bff-af98-92eea19ce163",
   "metadata": {},
   "outputs": [
    {
     "name": "stdout",
     "output_type": "stream",
     "text": [
      "\n",
      "18. Mean Squared Error (MSE): 0.4837\n"
     ]
    }
   ],
   "source": [
    "#Q18: Write a Python program to train a Decision Tree Classifier using Entropy as the splitting criterion and print the model accuracy\n",
    "from sklearn.datasets import fetch_california_housing\n",
    "from sklearn.tree import DecisionTreeRegressor\n",
    "from sklearn.metrics import mean_squared_error\n",
    "\n",
    "housing = fetch_california_housing()\n",
    "X_house, y_house = housing.data, housing.target\n",
    "X_house_train, X_house_test, y_house_train, y_house_test = train_test_split(X_house, y_house, test_size=0.2, random_state=42)\n",
    "\n",
    "regressor = DecisionTreeRegressor()\n",
    "regressor.fit(X_house_train, y_house_train)\n",
    "regressor_pred = regressor.predict(X_house_test)\n",
    "mse = mean_squared_error(y_house_test, regressor_pred)\n",
    "print(f\"\\n18. Mean Squared Error (MSE): {mse:.4f}\")"
   ]
  },
  {
   "cell_type": "code",
   "execution_count": 20,
   "id": "500d07c1-5d7e-459d-ae53-b5a229ecb956",
   "metadata": {},
   "outputs": [
    {
     "name": "stdout",
     "output_type": "stream",
     "text": [
      "Mean Squared Error (MSE) on the test set: 0.4952\n"
     ]
    }
   ],
   "source": [
    "#Q19: Write a Python program to train a Decision Tree Regressor on a housing dataset and evaluate using Mean Squared Error (MSE)\n",
    "from sklearn.datasets import fetch_california_housing\n",
    "from sklearn.model_selection import train_test_split\n",
    "from sklearn.tree import DecisionTreeRegressor\n",
    "from sklearn.metrics import mean_squared_error\n",
    "\n",
    "# Load the California housing dataset\n",
    "housing = fetch_california_housing()\n",
    "X, y = housing.data, housing.target\n",
    "\n",
    "# Split the data into training and testing sets\n",
    "X_train, X_test, y_train, y_test = train_test_split(X, y, test_size=0.2, random_state=42)\n",
    "\n",
    "# Initialize the Decision Tree Regressor model\n",
    "regressor = DecisionTreeRegressor(random_state=42)\n",
    "\n",
    "# Train the model on the training data\n",
    "regressor.fit(X_train, y_train)\n",
    "\n",
    "# Make predictions on the test data\n",
    "y_pred = regressor.predict(X_test)\n",
    "\n",
    "# Evaluate the model using Mean Squared Error\n",
    "mse = mean_squared_error(y_test, y_pred)\n",
    "\n",
    "# Print the Mean Squared Error\n",
    "print(f\"Mean Squared Error (MSE) on the test set: {mse:.4f}\")"
   ]
  },
  {
   "cell_type": "code",
   "execution_count": 8,
   "id": "703ea510-700a-4f22-abbe-3aad7affad6d",
   "metadata": {},
   "outputs": [
    {
     "name": "stdout",
     "output_type": "stream",
     "text": [
      "Collecting graphviz\n",
      "  Obtaining dependency information for graphviz from https://files.pythonhosted.org/packages/00/be/d59db2d1d52697c6adc9eacaf50e8965b6345cc143f671e1ed068818d5cf/graphviz-0.20.3-py3-none-any.whl.metadata\n",
      "  Downloading graphviz-0.20.3-py3-none-any.whl.metadata (12 kB)\n",
      "Downloading graphviz-0.20.3-py3-none-any.whl (47 kB)\n",
      "   ---------------------------------------- 0.0/47.1 kB ? eta -:--:--\n",
      "   -------- ------------------------------- 10.2/47.1 kB ? eta -:--:--\n",
      "   ---------------------------------------- 47.1/47.1 kB 1.2 MB/s eta 0:00:00\n",
      "Installing collected packages: graphviz\n",
      "Successfully installed graphviz-0.20.3\n",
      "Note: you may need to restart the kernel to use updated packages.\n"
     ]
    },
    {
     "name": "stderr",
     "output_type": "stream",
     "text": [
      "\n",
      "[notice] A new release of pip is available: 23.2.1 -> 25.1.1\n",
      "[notice] To update, run: python.exe -m pip install --upgrade pip\n"
     ]
    }
   ],
   "source": [
    "pip install graphviz"
   ]
  },
  {
   "cell_type": "code",
   "execution_count": 9,
   "id": "f5f63c2a-0621-4740-94bc-db354eaae7bb",
   "metadata": {},
   "outputs": [
    {
     "name": "stdout",
     "output_type": "stream",
     "text": [
      "\n",
      "20. Decision tree visualization (requires Graphviz): Run the saved PDF 'iris_tree.pdf'\n"
     ]
    }
   ],
   "source": [
    "#Q20: Write a Python program to train a Decision Tree Classifier and visualize the tree using graphviz\n",
    "from sklearn.tree import export_graphviz\n",
    "import graphviz\n",
    "\n",
    "tree_viz_clf = DecisionTreeClassifier()\n",
    "tree_viz_clf.fit(X_train, y_train)\n",
    "\n",
    "dot_data = export_graphviz(tree_viz_clf, out_file=None,\n",
    "                           feature_names=iris.feature_names,\n",
    "                           class_names=iris.target_names,\n",
    "                           filled=True, rounded=True,\n",
    "                           special_characters=True)\n",
    "graph = graphviz.Source(dot_data)\n",
    "# To display the graph (requires Graphviz installation):\n",
    "# graph.render(\"iris_tree\") # This will save a PDF of the tree\n",
    "print(\"\\n20. Decision tree visualization (requires Graphviz): Run the saved PDF 'iris_tree.pdf'\")"
   ]
  },
  {
   "cell_type": "code",
   "execution_count": 10,
   "id": "49f5d4b6-2ab4-4d35-8f58-30436bb052c9",
   "metadata": {},
   "outputs": [
    {
     "name": "stdout",
     "output_type": "stream",
     "text": [
      "\n",
      "21. Accuracy with max_depth=3: 1.0000\n",
      "21. Accuracy with full tree: 1.0000\n"
     ]
    }
   ],
   "source": [
    "#Q21:  Write a Python program to train a Decision Tree Classifier with a maximum depth of 3 and compare its accuracy with a fully grown tree\n",
    "clf_depth3 = DecisionTreeClassifier(max_depth=3, random_state=42)\n",
    "clf_depth3.fit(X_train, y_train)\n",
    "pred_depth3 = clf_depth3.predict(X_test)\n",
    "accuracy_depth3 = accuracy_score(y_test, pred_depth3)\n",
    "\n",
    "full_tree_clf = DecisionTreeClassifier(random_state=42)\n",
    "full_tree_clf.fit(X_train, y_train)\n",
    "full_tree_pred = full_tree_clf.predict(X_test)\n",
    "full_tree_accuracy = accuracy_score(y_test, full_tree_pred)\n",
    "\n",
    "print(f\"\\n21. Accuracy with max_depth=3: {accuracy_depth3:.4f}\")\n",
    "print(f\"21. Accuracy with full tree: {full_tree_accuracy:.4f}\")"
   ]
  },
  {
   "cell_type": "code",
   "execution_count": 11,
   "id": "b644c307-1cb4-4206-adc5-190b7889e9f3",
   "metadata": {},
   "outputs": [
    {
     "name": "stdout",
     "output_type": "stream",
     "text": [
      "\n",
      "22. Accuracy with min_samples_split=5: 1.0000\n",
      "22. Default Accuracy: 1.0000\n"
     ]
    }
   ],
   "source": [
    "#Q22: Write a Python program to train a Decision Tree Classifier using min_samples_split=5 and compare its accuracy with a default tree\n",
    "clf_min_split = DecisionTreeClassifier(min_samples_split=5, random_state=42)\n",
    "clf_min_split.fit(X_train, y_train)\n",
    "pred_min_split = clf_min_split.predict(X_test)\n",
    "accuracy_min_split = accuracy_score(y_test, pred_min_split)\n",
    "\n",
    "default_clf = DecisionTreeClassifier(random_state=42)\n",
    "default_clf.fit(X_train, y_train)\n",
    "default_pred = default_clf.predict(X_test)\n",
    "default_accuracy = accuracy_score(y_test, default_pred)\n",
    "\n",
    "print(f\"\\n22. Accuracy with min_samples_split=5: {accuracy_min_split:.4f}\")\n",
    "print(f\"22. Default Accuracy: {default_accuracy:.4f}\")\n"
   ]
  },
  {
   "cell_type": "code",
   "execution_count": 12,
   "id": "b8999452-28b0-4f2e-80bb-7786c3a25600",
   "metadata": {},
   "outputs": [
    {
     "name": "stdout",
     "output_type": "stream",
     "text": [
      "\n",
      "23. Accuracy with scaled data: 1.0000\n",
      "23. Accuracy with unscaled data: 1.0000\n",
      "23. Note: Decision Trees are generally not sensitive to feature scaling.\n"
     ]
    }
   ],
   "source": [
    "#Q23: Write a Python program to apply feature scaling before training a Decision Tree Classifier and compare its accuracy with unscaled data\n",
    "from sklearn.preprocessing import StandardScaler\n",
    "\n",
    "scaler = StandardScaler()\n",
    "X_scaled_train = scaler.fit_transform(X_train)\n",
    "X_scaled_test = scaler.transform(X_test)\n",
    "\n",
    "scaled_clf = DecisionTreeClassifier(random_state=42)\n",
    "scaled_clf.fit(X_scaled_train, y_train)\n",
    "scaled_pred = scaled_clf.predict(X_scaled_test)\n",
    "scaled_accuracy = accuracy_score(y_test, scaled_pred)\n",
    "\n",
    "unscaled_clf = DecisionTreeClassifier(random_state=42)\n",
    "unscaled_clf.fit(X_train, y_train)\n",
    "unscaled_pred = unscaled_clf.predict(X_test)\n",
    "unscaled_accuracy = accuracy_score(y_test, unscaled_pred)\n",
    "\n",
    "print(f\"\\n23. Accuracy with scaled data: {scaled_accuracy:.4f}\")\n",
    "print(f\"23. Accuracy with unscaled data: {unscaled_accuracy:.4f}\")\n",
    "print(\"23. Note: Decision Trees are generally not sensitive to feature scaling.\")"
   ]
  },
  {
   "cell_type": "code",
   "execution_count": 13,
   "id": "0a04c52b-a1ff-4898-888f-41af60d6be91",
   "metadata": {},
   "outputs": [
    {
     "name": "stdout",
     "output_type": "stream",
     "text": [
      "\n",
      "24. One-vs-Rest Accuracy: 0.9667\n",
      "24. Note: Decision Trees can handle multiclass directly, OvR is shown with Logistic Regression as base.\n"
     ]
    }
   ],
   "source": [
    "#Q24: Write a Python program to train a Decision Tree Classifier using One-vs-Rest (OvR) strategy for multiclass classification\n",
    "from sklearn.multiclass import OneVsRestClassifier\n",
    "from sklearn.linear_model import LogisticRegression # Using Logistic Regression as the base estimator\n",
    "\n",
    "ovr_clf = OneVsRestClassifier(LogisticRegression(random_state=42))\n",
    "ovr_clf.fit(X_train, y_train)\n",
    "ovr_pred = ovr_clf.predict(X_test)\n",
    "ovr_accuracy = accuracy_score(y_test, ovr_pred)\n",
    "print(f\"\\n24. One-vs-Rest Accuracy: {ovr_accuracy:.4f}\")\n",
    "print(\"24. Note: Decision Trees can handle multiclass directly, OvR is shown with Logistic Regression as base.\")"
   ]
  },
  {
   "cell_type": "code",
   "execution_count": 14,
   "id": "0e62e7b5-9b23-4753-b7a4-c2f9f89d4408",
   "metadata": {},
   "outputs": [
    {
     "name": "stdout",
     "output_type": "stream",
     "text": [
      "\n",
      "25. Decision Tree Feature Importances: [0.         0.01667014 0.90614339 0.07718647]\n"
     ]
    }
   ],
   "source": [
    "#Q25: Write a Python program to train a Decision Tree Classifier and display the feature importance scores\n",
    "# 25. Decision Tree Classifier and display feature importance scores\n",
    "dt_feature_importance_clf = DecisionTreeClassifier(random_state=42)\n",
    "dt_feature_importance_clf.fit(X_train, y_train)\n",
    "print(f\"\\n25. Decision Tree Feature Importances: {dt_feature_importance_clf.feature_importances_}\")"
   ]
  },
  {
   "cell_type": "code",
   "execution_count": 15,
   "id": "6c2ac306-dab9-4e09-a896-36dd4eef5f6b",
   "metadata": {},
   "outputs": [
    {
     "name": "stdout",
     "output_type": "stream",
     "text": [
      "\n",
      "26. MSE with max_depth=5: 0.5245\n",
      "26. MSE with unrestricted tree: 0.4952\n"
     ]
    }
   ],
   "source": [
    "#Q26: Write a Python program to train a Decision Tree Regressor with max_depth=5 and compare its performance with an unrestricted tree\n",
    "regressor_depth5 = DecisionTreeRegressor(max_depth=5, random_state=42)\n",
    "regressor_depth5.fit(X_house_train, y_house_train)\n",
    "regressor_pred_depth5 = regressor_depth5.predict(X_house_test)\n",
    "mse_depth5 = mean_squared_error(y_house_test, regressor_pred_depth5)\n",
    "\n",
    "unrestricted_regressor = DecisionTreeRegressor(random_state=42)\n",
    "unrestricted_regressor.fit(X_house_train, y_house_train)\n",
    "unrestricted_pred = unrestricted_regressor.predict(X_house_test)\n",
    "unrestricted_mse = mean_squared_error(y_house_test, unrestricted_pred)\n",
    "\n",
    "print(f\"\\n26. MSE with max_depth=5: {mse_depth5:.4f}\")\n",
    "print(f\"26. MSE with unrestricted tree: {unrestricted_mse:.4f}\")"
   ]
  },
  {
   "cell_type": "code",
   "execution_count": 16,
   "id": "351bc3b2-5ff9-4748-b462-500ad30297a9",
   "metadata": {},
   "outputs": [
    {
     "name": "stdout",
     "output_type": "stream",
     "text": [
      "\n",
      "27. Cost Complexity Pruning: (Visualizing effect on accuracy would require plotting)\n"
     ]
    }
   ],
   "source": [
    "#Q27: Write a Python program to train a Decision Tree Classifier, apply Cost Complexity Pruning (CCP), and visualize its effect on accuracy\n",
    "path = dt_feature_importance_clf.cost_complexity_pruning_path(X_train, y_train)\n",
    "ccp_alphas, impurities = path.ccp_alphas, path.impurities\n",
    "\n",
    "clfs = []\n",
    "for ccp_alpha in ccp_alphas:\n",
    "    clf = DecisionTreeClassifier(random_state=42, ccp_alpha=ccp_alpha)\n",
    "    clf.fit(X_train, y_train)\n",
    "    clfs.append(clf)\n",
    "\n",
    "train_scores = [clf.score(X_train, y_train) for clf in clfs]\n",
    "test_scores = [clf.score(X_test, y_test) for clf in clfs]\n",
    "\n",
    "print(\"\\n27. Cost Complexity Pruning: (Visualizing effect on accuracy would require plotting)\")\n",
    "# You would typically plot ccp_alphas vs train_scores and test_scores"
   ]
  },
  {
   "cell_type": "code",
   "execution_count": 17,
   "id": "b351b38a-5bcf-4251-9465-65d649e1b60d",
   "metadata": {},
   "outputs": [
    {
     "name": "stdout",
     "output_type": "stream",
     "text": [
      "\n",
      "28. Precision: 1.0000\n",
      "28. Recall: 1.0000\n",
      "28. F1-Score: 1.0000\n"
     ]
    }
   ],
   "source": [
    "#Q28: Write a Python program to train a Decision Tree Classifier and evaluate its performance using Precision, Recall, and F1-Score\n",
    "from sklearn.metrics import precision_score, recall_score, f1_score\n",
    "\n",
    "pr_clf = DecisionTreeClassifier(random_state=42)\n",
    "pr_clf.fit(X_train, y_train)\n",
    "pr_pred = pr_clf.predict(X_test)\n",
    "\n",
    "precision = precision_score(y_test, pr_pred, average='weighted')\n",
    "recall = recall_score(y_test, pr_pred, average='weighted')\n",
    "f1 = f1_score(y_test, pr_pred, average='weighted')\n",
    "\n",
    "print(f\"\\n28. Precision: {precision:.4f}\")\n",
    "print(f\"28. Recall: {recall:.4f}\")\n",
    "print(f\"28. F1-Score: {f1:.4f}\")"
   ]
  },
  {
   "cell_type": "code",
   "execution_count": 18,
   "id": "811c3615-7db6-45c3-b619-20a06a56feea",
   "metadata": {},
   "outputs": [
    {
     "data": {
      "image/png": "[encoded data removed]",
      "text/plain": [
       "<Figure size 800x600 with 2 Axes>"
      ]
     },
     "metadata": {},
     "output_type": "display_data"
    }
   ],
   "source": [
    "#Q29: Write a Python program to train a Decision Tree Classifier and visualize the confusion matrix using seaborn\n",
    "from sklearn.metrics import confusion_matrix\n",
    "import seaborn as sns\n",
    "import matplotlib.pyplot as plt\n",
    "\n",
    "cm = confusion_matrix(y_test, pr_pred)\n",
    "plt.figure(figsize=(8, 6))\n",
    "sns.heatmap(cm, annot=True, fmt='d', cmap='Blues',\n",
    "            xticklabels=iris.target_names, yticklabels=iris.target_names)\n",
    "plt.xlabel('Predicted Label')\n",
    "plt.ylabel('True Label')\n",
    "plt.title('29. Confusion Matrix')\n",
    "plt.show()"
   ]
  },
  {
   "cell_type": "code",
   "execution_count": 19,
   "id": "4d427743-dab6-4d37-bfa0-f375ce86f02a",
   "metadata": {},
   "outputs": [
    {
     "name": "stdout",
     "output_type": "stream",
     "text": [
      "\n",
      "30. Optimal hyperparameters from GridSearchCV:\n",
      "{'max_depth': 4, 'min_samples_split': 2}\n"
     ]
    }
   ],
   "source": [
    "#Q30: Write a Python program to train a Decision Tree Classifier and use GridSearchCV to find the optimal values for max_depth and min_samples_split.\n",
    "from sklearn.model_selection import GridSearchCV\n",
    "\n",
    "param_grid = {'max_depth': range(1, 11),\n",
    "              'min_samples_split': range(2, 11)}\n",
    "\n",
    "grid_search = GridSearchCV(DecisionTreeClassifier(random_state=42),\n",
    "                           param_grid, cv=5)\n",
    "grid_search.fit(X_train, y_train)\n",
    "\n",
    "print(\"\\n30. Optimal hyperparameters from GridSearchCV:\")\n",
    "print(grid_search.best_params_)"
   ]
  },
  {
   "cell_type": "code",
   "execution_count": null,
   "id": "4ec8b767-65d8-43dc-a938-8dbaa98f2a55",
   "metadata": {},
   "outputs": [],
   "source": []
  },
  {
   "cell_type": "code",
   "execution_count": null,
   "id": "dbe7f3dd-0c00-4b54-9f16-05cc1dad6033",
   "metadata": {},
   "outputs": [],
   "source": []
  },
  {
   "cell_type": "code",
   "execution_count": null,
   "id": "1b95f27f-2353-4ee0-966b-3ddc0b462c0f",
   "metadata": {},
   "outputs": [],
   "source": []
  },
  {
   "cell_type": "code",
   "execution_count": null,
   "id": "f3af15d1-7ea2-44d8-87c2-37b319e787b0",
   "metadata": {},
   "outputs": [],
   "source": []
  },
  {
   "cell_type": "code",
   "execution_count": null,
   "id": "e2fa6c11-6792-439f-99fc-71832df873f4",
   "metadata": {},
   "outputs": [],
   "source": []
  },
  {
   "cell_type": "code",
   "execution_count": null,
   "id": "a6c547c2-7be6-4bd3-8213-8ed592c31a9d",
   "metadata": {},
   "outputs": [],
   "source": []
  },
  {
   "cell_type": "code",
   "execution_count": null,
   "id": "603cb46c-8b90-43d0-881c-59add074df38",
   "metadata": {},
   "outputs": [],
   "source": []
  }
 ],
 "metadata": {
  "kernelspec": {
   "display_name": "Python 3 (ipykernel)",
   "language": "python",
   "name": "python3"
  },
  "language_info": {
   "codemirror_mode": {
    "name": "ipython",
    "version": 3
   },
   "file_extension": ".py",
   "mimetype": "text/x-python",
   "name": "python",
   "nbconvert_exporter": "python",
   "pygments_lexer": "ipython3",
   "version": "3.11.5"
  }
 },
 "nbformat": 4,
 "nbformat_minor": 5
}
